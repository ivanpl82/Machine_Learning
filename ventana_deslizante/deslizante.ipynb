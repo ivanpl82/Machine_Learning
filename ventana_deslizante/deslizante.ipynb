{
 "cells": [
  {
   "cell_type": "code",
   "execution_count": 1,
   "metadata": {
    "scrolled": true
   },
   "outputs": [
    {
     "data": {
      "text/plain": [
       "'\\nCargamos las librerias\\n'"
      ]
     },
     "execution_count": 1,
     "metadata": {},
     "output_type": "execute_result"
    }
   ],
   "source": [
    "'''\n",
    "Cargamos las librerias\n",
    "'''"
   ]
  },
  {
   "cell_type": "code",
   "execution_count": 2,
   "metadata": {},
   "outputs": [],
   "source": [
    "from PIL import Image\n",
    "import os\n",
    "import sys"
   ]
  },
  {
   "cell_type": "code",
   "execution_count": 3,
   "metadata": {},
   "outputs": [
    {
     "data": {
      "text/plain": [
       "'\\nAbrimos imagen y nos quedamos con sus propiedades\\n'"
      ]
     },
     "execution_count": 3,
     "metadata": {},
     "output_type": "execute_result"
    }
   ],
   "source": [
    "'''\n",
    "Abrimos imagen y nos quedamos con sus propiedades\n",
    "'''"
   ]
  },
  {
   "cell_type": "code",
   "execution_count": 4,
   "metadata": {},
   "outputs": [],
   "source": [
    "my_file = \"imagen/naranjo.jpg\""
   ]
  },
  {
   "cell_type": "code",
   "execution_count": 5,
   "metadata": {},
   "outputs": [],
   "source": [
    "if not os.path.isfile(my_file):\n",
    "    print(\"Imagen no encontrada\")\n",
    "    exit(3)\n",
    "imagen = Image.open(my_file)\n",
    "size = imagen.size\n",
    "width = size[0]\n",
    "height = size[1]"
   ]
  },
  {
   "cell_type": "code",
   "execution_count": 6,
   "metadata": {},
   "outputs": [
    {
     "data": {
      "text/plain": [
       "'\\nCreamos un cursor\\nen este caso tendra solapamiento\\n'"
      ]
     },
     "execution_count": 6,
     "metadata": {},
     "output_type": "execute_result"
    }
   ],
   "source": [
    "'''\n",
    "Creamos un cursor\n",
    "en este caso tendra solapamiento\n",
    "'''"
   ]
  },
  {
   "cell_type": "code",
   "execution_count": 7,
   "metadata": {},
   "outputs": [],
   "source": [
    "posx = 0\n",
    "posy = 0\n",
    "solapex = 0.3\n",
    "solapey = 0.3"
   ]
  },
  {
   "cell_type": "code",
   "execution_count": 8,
   "metadata": {},
   "outputs": [],
   "source": [
    "for divisor in range(5, 20, 5):\n",
    "    #inicializamos variables\n",
    "    posx = 0\n",
    "    posy = 0\n",
    "    new_width = width / divisor\n",
    "    new_height = height / divisor\n",
    "    solape_x = new_width * solapex\n",
    "    solape_y = new_height * solapey\n",
    "    #creamos directorio para almacenar imagenes\n",
    "    new_path = 'salida/divisor_' + str(divisor)\n",
    "    if not os.path.isdir(new_path):\n",
    "        os.makedirs(new_path)\n",
    "    #mientras llego al final de la imagen\n",
    "    while new_height <= height:\n",
    "        posx = 0\n",
    "        new_width = width / divisor\n",
    "        while new_width <= width:\n",
    "            caja = (posx, posy, new_width, new_height)\n",
    "            #cortamos cursor\n",
    "            region = imagen.crop(caja)\n",
    "            region.save(new_path + '/imagen_' + str(posx) + '_' + str(posy) + '.jpg')\n",
    "            posx += solape_x\n",
    "            new_width += solape_x\n",
    "        posy += solape_y\n",
    "        new_height += solape_y"
   ]
  },
  {
   "cell_type": "code",
   "execution_count": null,
   "metadata": {},
   "outputs": [],
   "source": []
  }
 ],
 "metadata": {
  "kernelspec": {
   "display_name": "deslizante-mv",
   "language": "python",
   "name": "deslizante-mv"
  },
  "language_info": {
   "codemirror_mode": {
    "name": "ipython",
    "version": 3
   },
   "file_extension": ".py",
   "mimetype": "text/x-python",
   "name": "python",
   "nbconvert_exporter": "python",
   "pygments_lexer": "ipython3",
   "version": "3.7.0"
  }
 },
 "nbformat": 4,
 "nbformat_minor": 2
}
